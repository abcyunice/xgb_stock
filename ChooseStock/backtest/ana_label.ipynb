{
 "cells": [
  {
   "cell_type": "code",
   "execution_count": 1,
   "metadata": {},
   "outputs": [
    {
     "name": "stdout",
     "output_type": "stream",
     "text": [
      "14042\n",
      "165475\n",
      "732131\n",
      "873295\n"
     ]
    }
   ],
   "source": [
    "import pandas as pd\n",
    "\n",
    "df_all = pd.read_csv(\"../datasets/stock_20200821.csv\")\n",
    "\n",
    "print(len(df_all[df_all[\"pct_chg\"] > 0.08]))\n",
    "print(len(df_all[df_all[\"pct_chg\"] > 0.02]))\n",
    "print(len(df_all[df_all[\"pct_chg\"] > -0.02]))\n",
    "print(len(df_all[df_all[\"pct_chg\"] > -0.08]))"
   ]
  },
  {
   "cell_type": "code",
   "execution_count": 3,
   "metadata": {},
   "outputs": [
    {
     "data": {
      "text/plain": [
       "0.018657715947592943"
      ]
     },
     "execution_count": 3,
     "metadata": {},
     "output_type": "execute_result"
    }
   ],
   "source": [
    "import numpy as np\n",
    "\n",
    "np.quantile(df_all[\"pct_chg\"], 0.8)"
   ]
  },
  {
   "cell_type": "code",
   "execution_count": 6,
   "metadata": {},
   "outputs": [
    {
     "name": "stdout",
     "output_type": "stream",
     "text": [
      "0.9524361765198384\n"
     ]
    }
   ],
   "source": [
    "print(len(df_all[(df_all[\"pct_chg\"] > -11) & (df_all[\"pct_chg\"] < 0.05)])/len(df_all))"
   ]
  },
  {
   "cell_type": "code",
   "execution_count": null,
   "metadata": {},
   "outputs": [],
   "source": []
  },
  {
   "cell_type": "code",
   "execution_count": null,
   "metadata": {},
   "outputs": [],
   "source": []
  },
  {
   "cell_type": "code",
   "execution_count": null,
   "metadata": {},
   "outputs": [],
   "source": []
  }
 ],
 "metadata": {
  "kernelspec": {
   "display_name": "Python 3",
   "language": "python",
   "name": "python3"
  },
  "language_info": {
   "codemirror_mode": {
    "name": "ipython",
    "version": 3
   },
   "file_extension": ".py",
   "mimetype": "text/x-python",
   "name": "python",
   "nbconvert_exporter": "python",
   "pygments_lexer": "ipython3",
   "version": "3.7.4"
  }
 },
 "nbformat": 4,
 "nbformat_minor": 2
}
